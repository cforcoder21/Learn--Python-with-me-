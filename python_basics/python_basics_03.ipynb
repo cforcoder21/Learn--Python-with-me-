{
 "cells": [
  {
   "cell_type": "markdown",
   "metadata": {},
   "source": [
    "Operators in python"
   ]
  },
  {
   "cell_type": "markdown",
   "metadata": {},
   "source": [
    "1. Arithmetic Operators (*, +,-,/,%)"
   ]
  },
  {
   "cell_type": "code",
   "execution_count": 3,
   "metadata": {},
   "outputs": [
    {
     "name": "stdout",
     "output_type": "stream",
     "text": [
      "100\n",
      "31\n",
      "2.1\n",
      "1\n"
     ]
    }
   ],
   "source": [
    "#Arithmetic Operators\n",
    "num1=21\n",
    "num2=10\n",
    "mult= num2*num2\n",
    "add= num1+num2\n",
    "sub= num1-num2\n",
    "div=num1/num2\n",
    "mod=num1%num2\n",
    "print(mult)\n",
    "print(add)\n",
    "print(div)\n",
    "print(mod)"
   ]
  },
  {
   "cell_type": "markdown",
   "metadata": {},
   "source": [
    "2.Comparison Operators(==,<=,=>)"
   ]
  },
  {
   "cell_type": "code",
   "execution_count": 4,
   "metadata": {},
   "outputs": [
    {
     "name": "stdout",
     "output_type": "stream",
     "text": [
      "True\n",
      "False\n",
      "True\n",
      "False\n",
      "End\n"
     ]
    }
   ],
   "source": [
    "num1=21\n",
    "num2=2\n",
    "\n",
    "print(num1>num2)\n",
    "print(num1<num2)\n",
    "print(num1 != num2)\n",
    "print(num1 == num2)\n",
    "print(\"End\")"
   ]
  },
  {
   "cell_type": "markdown",
   "metadata": {},
   "source": [
    "3.Assignment Operator(==,+=,-=)"
   ]
  },
  {
   "cell_type": "code",
   "execution_count": 5,
   "metadata": {},
   "outputs": [
    {
     "name": "stdout",
     "output_type": "stream",
     "text": [
      "31\n",
      "22\n",
      "22\n",
      "31\n"
     ]
    }
   ],
   "source": [
    "num1=21\n",
    "num2=32\n",
    "num1+=10\n",
    "print(num1)\n",
    "num2-=10\n",
    "print(num2)\n",
    "\n",
    "num3=num1\n",
    "num1=num2\n",
    "print(num1)\n",
    "print(num3)\n"
   ]
  },
  {
   "cell_type": "markdown",
   "metadata": {},
   "source": [
    "4.Logical Operator(&&,| |,!)"
   ]
  },
  {
   "cell_type": "code",
   "execution_count": null,
   "metadata": {},
   "outputs": [],
   "source": [
    "num1=21\n",
    "num2="
   ]
  }
 ],
 "metadata": {
  "kernelspec": {
   "display_name": "Python 3",
   "language": "python",
   "name": "python3"
  },
  "language_info": {
   "codemirror_mode": {
    "name": "ipython",
    "version": 3
   },
   "file_extension": ".py",
   "mimetype": "text/x-python",
   "name": "python",
   "nbconvert_exporter": "python",
   "pygments_lexer": "ipython3",
   "version": "3.12.1"
  }
 },
 "nbformat": 4,
 "nbformat_minor": 2
}
