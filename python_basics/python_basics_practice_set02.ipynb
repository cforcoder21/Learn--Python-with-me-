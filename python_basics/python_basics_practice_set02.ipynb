{
 "cells": [
  {
   "cell_type": "markdown",
   "metadata": {},
   "source": [
    "1. Write a python program to add two numbers.\n",
    "2. Write a python program to find remainder when a number is divided by z.\n",
    "3. Check the type of variable assigned using input() function.\n",
    "4. Use comparison operator to find out whether a given variable is greater than 'b' or not. Take a = 34 and b = 80.\n",
    "5. Write a python program to find an average of two numbers entered by the user.\n",
    "6. Write a python program to calculate the square of a number entered by the user.1"
   ]
  },
  {
   "cell_type": "code",
   "execution_count": 1,
   "metadata": {},
   "outputs": [
    {
     "name": "stdout",
     "output_type": "stream",
     "text": [
      "The sum is :  42\n"
     ]
    }
   ],
   "source": [
    "#Write a python program to add two numbers.\n",
    "num1=int(input(\"Enter first numbers : \"))\n",
    "num2=int(input(\"Enter second number : \"))\n",
    "sum = num1+num2\n",
    "print(\"The sum is : \", sum)"
   ]
  },
  {
   "cell_type": "code",
   "execution_count": 2,
   "metadata": {},
   "outputs": [
    {
     "name": "stdout",
     "output_type": "stream",
     "text": [
      "The answer is :  12.0\n"
     ]
    }
   ],
   "source": [
    "#Write a python program to find remainder when a number is divided by z.\n",
    "num1=int(input(\"Enter the number to be divided : \"))\n",
    "z=int(input(\"Enter the divisor : \"))\n",
    "div= num1/z\n",
    "print(\"The answer is : \", div)"
   ]
  },
  {
   "cell_type": "code",
   "execution_count": 5,
   "metadata": {},
   "outputs": [
    {
     "name": "stdout",
     "output_type": "stream",
     "text": [
      "The type of input is :  <class 'str'>\n"
     ]
    }
   ],
   "source": [
    "#Check the type of variable assigned using input() function.\n",
    "unknown= input(\"Enter anything : \")\n",
    "print(\"The type of input is : \", type(unknown))"
   ]
  },
  {
   "cell_type": "code",
   "execution_count": null,
   "metadata": {},
   "outputs": [],
   "source": []
  }
 ],
 "metadata": {
  "kernelspec": {
   "display_name": "Python 3",
   "language": "python",
   "name": "python3"
  },
  "language_info": {
   "codemirror_mode": {
    "name": "ipython",
    "version": 3
   },
   "file_extension": ".py",
   "mimetype": "text/x-python",
   "name": "python",
   "nbconvert_exporter": "python",
   "pygments_lexer": "ipython3",
   "version": "3.12.1"
  }
 },
 "nbformat": 4,
 "nbformat_minor": 2
}
